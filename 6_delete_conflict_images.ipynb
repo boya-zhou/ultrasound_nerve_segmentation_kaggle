{
 "cells": [
  {
   "cell_type": "code",
   "execution_count": 1,
   "metadata": {
    "collapsed": false
   },
   "outputs": [
    {
     "name": "stderr",
     "output_type": "stream",
     "text": [
      "Using TensorFlow backend.\n"
     ]
    }
   ],
   "source": [
    "import tensorflow\n",
    "import keras"
   ]
  },
  {
   "cell_type": "code",
   "execution_count": 2,
   "metadata": {
    "collapsed": true
   },
   "outputs": [],
   "source": [
    "import cv2\n",
    "import numpy as np\n",
    "from keras.models import Model\n",
    "from keras.layers import Input, merge, Convolution2D, MaxPooling2D, UpSampling2D\n",
    "from keras.optimizers import Adam\n",
    "from keras.callbacks import ModelCheckpoint\n",
    "from keras import backend as K\n",
    "import h5py\n",
    "import os"
   ]
  },
  {
   "cell_type": "code",
   "execution_count": 3,
   "metadata": {
    "collapsed": false
   },
   "outputs": [
    {
     "name": "stderr",
     "output_type": "stream",
     "text": [
      "/usr/lib/python2.7/dist-packages/matplotlib/font_manager.py:273: UserWarning: Matplotlib is building the font cache using fc-list. This may take a moment.\n",
      "  warnings.warn('Matplotlib is building the font cache using fc-list. This may take a moment.')\n"
     ]
    }
   ],
   "source": [
    "%matplotlib inline\n",
    "from matplotlib import pyplot as plt"
   ]
  },
  {
   "cell_type": "code",
   "execution_count": 4,
   "metadata": {
    "collapsed": true
   },
   "outputs": [],
   "source": [
    "import time\n",
    "import glob"
   ]
  },
  {
   "cell_type": "code",
   "execution_count": 5,
   "metadata": {
    "collapsed": true
   },
   "outputs": [],
   "source": [
    "data_scource = 'origin_data/'\n",
    "image_rows = 420\n",
    "image_cols = 580\n",
    "train_data_path = os.path.join(data_scource, 'train/')"
   ]
  },
  {
   "cell_type": "markdown",
   "metadata": {},
   "source": [
    "## -----begin test-----"
   ]
  },
  {
   "cell_type": "code",
   "execution_count": 26,
   "metadata": {
    "collapsed": true
   },
   "outputs": [],
   "source": [
    "img_9 = cv2.imread(train_data_path + '1_9.tif')\n",
    "img_14 = cv2.imread(train_data_path + '1_14.tif')\n",
    "img_1 = cv2.imread(train_data_path + '1_1.tif')"
   ]
  },
  {
   "cell_type": "markdown",
   "metadata": {},
   "source": [
    "### calculate hitogram\n",
    "### http://docs.opencv.org/3.1.0/d1/db7/tutorial_py_histogram_begins.html\n",
    "- though is v3.0 v2.4 will work"
   ]
  },
  {
   "cell_type": "code",
   "execution_count": 27,
   "metadata": {
    "collapsed": true
   },
   "outputs": [],
   "source": [
    "hist_9 = cv2.calcHist([img_9],[0],None,[256],[0,256])\n",
    "hist_14 = cv2.calcHist([img_14],[0],None,[256],[0,256])\n",
    "hist_1 = cv2.calcHist([img_1],[0],None,[256],[0,256])"
   ]
  },
  {
   "cell_type": "code",
   "execution_count": 29,
   "metadata": {
    "collapsed": false
   },
   "outputs": [
    {
     "data": {
      "text/plain": [
       "[<matplotlib.lines.Line2D at 0x7f53b998fdd0>]"
      ]
     },
     "execution_count": 29,
     "metadata": {},
     "output_type": "execute_result"
    },
    {
     "data": {
      "image/png": "[encoded data removed]",
      "text/plain": [
       "<matplotlib.figure.Figure at 0x7f53b9a30190>"
      ]
     },
     "metadata": {},
     "output_type": "display_data"
    }
   ],
   "source": [
    "plt.plot(hist_9)\n",
    "plt.plot(hist_14)\n",
    "plt.plot(hist_1)"
   ]
  },
  {
   "cell_type": "markdown",
   "metadata": {},
   "source": [
    "### opencv: histcompare"
   ]
  },
  {
   "cell_type": "code",
   "execution_count": 25,
   "metadata": {
    "collapsed": false
   },
   "outputs": [
    {
     "data": {
      "text/plain": [
       "0.999713792935232"
      ]
     },
     "execution_count": 25,
     "metadata": {},
     "output_type": "execute_result"
    }
   ],
   "source": [
    "cv2.compareHist(hist_9, hist_14, cv2.cv.CV_COMP_CORREL)"
   ]
  },
  {
   "cell_type": "code",
   "execution_count": 30,
   "metadata": {
    "collapsed": false
   },
   "outputs": [
    {
     "data": {
      "text/plain": [
       "0.9526969345451762"
      ]
     },
     "execution_count": 30,
     "metadata": {},
     "output_type": "execute_result"
    }
   ],
   "source": [
    "cv2.compareHist(hist_9, hist_1, cv2.cv.CV_COMP_CORREL)"
   ]
  },
  {
   "cell_type": "code",
   "execution_count": 32,
   "metadata": {
    "collapsed": false
   },
   "outputs": [
    {
     "data": {
      "text/plain": [
       "0.9528362204793663"
      ]
     },
     "execution_count": 32,
     "metadata": {},
     "output_type": "execute_result"
    }
   ],
   "source": [
    "cv2.compareHist(hist_14, hist_1, cv2.cv.CV_COMP_CORREL)"
   ]
  },
  {
   "cell_type": "markdown",
   "metadata": {},
   "source": [
    "### seems set 0.999 as threshold is a good choice, or it may not, we will see"
   ]
  },
  {
   "cell_type": "code",
   "execution_count": 38,
   "metadata": {
    "collapsed": false
   },
   "outputs": [
    {
     "name": "stdout",
     "output_type": "stream",
     "text": [
      "11.7246076067\n"
     ]
    }
   ],
   "source": [
    "t0 = time.time()\n",
    "hist_9 = cv2.calcHist([img_9],[0],None,[256],[0,256])\n",
    "hist_14 = cv2.calcHist([img_14],[0],None,[256],[0,256])\n",
    "cv2.compareHist(hist_9, hist_14, cv2.cv.CV_COMP_CORREL)\n",
    "print (time.time() - t0) * 5600 * 5600/ (47*47)"
   ]
  },
  {
   "cell_type": "markdown",
   "metadata": {},
   "source": [
    "## ---finish test---"
   ]
  },
  {
   "cell_type": "markdown",
   "metadata": {},
   "source": [
    "### reference : https://www.kaggle.com/agalea91/ultrasound-nerve-segmentation/mislabeled-training-images/discussion"
   ]
  },
  {
   "cell_type": "code",
   "execution_count": 6,
   "metadata": {
    "collapsed": true
   },
   "outputs": [],
   "source": [
    "train_data_path_conflict = os.path.join(data_scource, 'train_conflict/')"
   ]
  },
  {
   "cell_type": "code",
   "execution_count": 7,
   "metadata": {
    "collapsed": true
   },
   "outputs": [],
   "source": [
    "# Load images into dictionary where the keys\n",
    "# represent patients (first label on training images)\n",
    "\n",
    "def load_cv2_images(folder):\n",
    "    imgs, masks, img_ids = {}, {}, {}\n",
    "    for i in range(47):\n",
    "        imgs[i+1] = []\n",
    "        masks[i+1] = []\n",
    "        img_ids[i+1] = []\n",
    "    \n",
    "    paths = glob.glob(folder+'*.tif')\n",
    "    paths = [p for p in paths if 'mask' not in p]\n",
    "    \n",
    "    for p in paths:\n",
    "        # Read in greyscale image and append to path\n",
    "        index = int(p.split('/')[2].split('_')[0])\n",
    "        try:\n",
    "            imgs[index].append(cv2.imread(p, 0))\n",
    "            masks[index].append(cv2.imread(p[:-4]+'_mask.tif', 0))\n",
    "            img_ids[index].append(p.split('/')[2])\n",
    "        except:\n",
    "            pass\n",
    "    \n",
    "    for i in range(47):\n",
    "        imgs[i+1] = np.array(imgs[i+1])\n",
    "        masks[i+1] = np.array(masks[i+1])\n",
    "    \n",
    "    return imgs, masks, img_ids\n",
    "    \n",
    "imgs, masks, img_ids = load_cv2_images(train_data_path_conflict)"
   ]
  },
  {
   "cell_type": "code",
   "execution_count": 8,
   "metadata": {
    "collapsed": false
   },
   "outputs": [
    {
     "data": {
      "text/plain": [
       "310"
      ]
     },
     "execution_count": 8,
     "metadata": {},
     "output_type": "execute_result"
    }
   ],
   "source": [
    "# The function below will find any\n",
    "# image similar to the input image\n",
    "def find_pairs(compare_img, compare_mask, compare_id,\n",
    "               imgs, masks, img_ids,\n",
    "               compare_index, matches):\n",
    "\n",
    "    threshold = 0.999\n",
    "    for i, (img, mask, img_id) in enumerate(zip(imgs, masks, img_ids)):\n",
    "        \n",
    "        hist_compare = cv2.calcHist([compare_img],[0],None,[256],[0,256])\n",
    "        hist_img = cv2.calcHist([img],[0],None,[256],[0,256])\n",
    "        corr = cv2.compareHist(hist_compare, hist_img, cv2.cv.CV_COMP_CORREL)\n",
    "        \n",
    "        if corr > threshold \\\n",
    "        and i != compare_index \\\n",
    "        and (compare_mask.sum() == 0) != (mask.sum() == 0):\n",
    "            matches.append((compare_img, compare_mask, compare_id, img, mask, img_id))\n",
    "\n",
    "    return matches\n",
    "\n",
    "matches = []\n",
    "for j in range(47):\n",
    "    for i, (img, mask, img_id) in enumerate(zip(imgs[j+1], masks[j+1], img_ids[j+1])):\n",
    "        matches = find_pairs(img, mask, img_id,\n",
    "                             imgs[j+1], masks[j+1], img_ids[j+1],\n",
    "                             i, matches)\n",
    "len(matches)"
   ]
  },
  {
   "cell_type": "code",
   "execution_count": 1,
   "metadata": {
    "collapsed": false,
    "scrolled": true
   },
   "outputs": [],
   "source": [
    "# Print the matches, avoiding duplicates\n",
    "\n",
    "repeats, unique = [], []\n",
    "for i, m in enumerate(matches):\n",
    "\n",
    "    # Using pixel sums as an ID for the picture\n",
    "    if m[0].sum() not in repeats\\\n",
    "    or m[3].sum() not in repeats:\n",
    "                \n",
    "        unique.append(m[0].sum())\n",
    "        fig, ax = plt.subplots(2, 2)\n",
    "        if m[1].sum() == 0:\n",
    "            i1, i2 = 1, 0\n",
    "        else:\n",
    "            i1, i2 = 0, 1\n",
    "            \n",
    "        ax[i1][0].imshow(m[0], cmap='gray')\n",
    "        ax[i1][0].set_title(m[2])\n",
    "        ax[i1][1].imshow(m[1], cmap='gray')\n",
    "        ax[i1][1].set_title(m[2][:-4]+'_mask.tif')\n",
    "        \n",
    "        ax[i2][0].imshow(m[3], cmap='gray')\n",
    "        ax[i2][0].set_title(m[5])\n",
    "        ax[i2][1].imshow(m[4], cmap='gray')\n",
    "        ax[i2][1].set_title(m[5][:-4]+'_mask.tif')\n",
    "        \n",
    "        fig.subplots_adjust(hspace=0.4)\n",
    "        plt.show()\n",
    "        \n",
    "    repeats.append(m[0].sum())\n",
    "    repeats.append(m[3].sum())\n",
    "    if i == 98:\n",
    "        break"
   ]
  },
  {
   "cell_type": "code",
   "execution_count": 13,
   "metadata": {
    "collapsed": false
   },
   "outputs": [],
   "source": [
    "img_conflict = []\n",
    "for m in matches:\n",
    "    img_conflict.append(m[5])"
   ]
  },
  {
   "cell_type": "code",
   "execution_count": 16,
   "metadata": {
    "collapsed": true
   },
   "outputs": [],
   "source": [
    "np.save('img_remove_id.npy', img_conflict)"
   ]
  }
 ],
 "metadata": {
  "kernelspec": {
   "display_name": "Python 2",
   "language": "python",
   "name": "python2"
  },
  "language_info": {
   "codemirror_mode": {
    "name": "ipython",
    "version": 2
   },
   "file_extension": ".py",
   "mimetype": "text/x-python",
   "name": "python",
   "nbconvert_exporter": "python",
   "pygments_lexer": "ipython2",
   "version": "2.7.12"
  }
 },
 "nbformat": 4,
 "nbformat_minor": 1
}
